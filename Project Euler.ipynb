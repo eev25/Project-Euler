{
 "cells": [
  {
   "cell_type": "code",
   "execution_count": 12,
   "metadata": {
    "collapsed": false
   },
   "outputs": [
    {
     "name": "stdout",
     "output_type": "stream",
     "text": [
      "233168\n"
     ]
    }
   ],
   "source": [
    "#problem 1\n",
    "sum = 0\n",
    "for i in range(1,1000):\n",
    "    if i % 3 == 0 or i % 5 == 0:\n",
    "        sum += i\n",
    "print(sum)"
   ]
  },
  {
   "cell_type": "code",
   "execution_count": 13,
   "metadata": {
    "collapsed": false
   },
   "outputs": [
    {
     "name": "stdout",
     "output_type": "stream",
     "text": [
      "4613732\n"
     ]
    }
   ],
   "source": [
    "#problem 2\n",
    "ceilingValue = 4000000\n",
    "def fib(f,s,sum):\n",
    "    if s > ceilingValue:\n",
    "        return sum\n",
    "    return fib(s,f+s, sum + s if s % 2 == 0 else sum)\n",
    "print(fib(1,2,0))"
   ]
  },
  {
   "cell_type": "code",
   "execution_count": 14,
   "metadata": {
    "collapsed": false
   },
   "outputs": [
    {
     "name": "stdout",
     "output_type": "stream",
     "text": [
      "6857\n"
     ]
    }
   ],
   "source": [
    "#problem 3\n",
    "import math\n",
    "\n",
    "def isPrime(n):\n",
    "    for i in range(2, int(math.sqrt(n))):\n",
    "        if n % i == 0:\n",
    "            return False\n",
    "    return True\n",
    "\n",
    "value = 600851475143\n",
    "largestPrimeFactor = 1\n",
    "sqrtValue = int(math.sqrt(value))\n",
    "for i in range(1, sqrtValue):\n",
    "    if value % i == 0 and isPrime(i) and i > largestPrimeFactor:\n",
    "        largestPrimeFactor = i\n",
    "\n",
    "print(largestPrimeFactor)"
   ]
  },
  {
   "cell_type": "code",
   "execution_count": 15,
   "metadata": {
    "collapsed": false
   },
   "outputs": [
    {
     "name": "stdout",
     "output_type": "stream",
     "text": [
      "906609\n"
     ]
    }
   ],
   "source": [
    "#problem 4\n",
    "a = [1,2,3]\n",
    "def isPalindrome(n):\n",
    "    strN = str(n)\n",
    "    for i in range(len(strN) // 2):\n",
    "        if not strN[i] == strN[-(i+1)]:\n",
    "            return False\n",
    "    return True\n",
    "largestPal = 0\n",
    "for a in range(100,1000):\n",
    "    for b in range(100,1000):\n",
    "        product = a * b\n",
    "        if isPalindrome(product) and product > largestPal:\n",
    "            largestPal = product\n",
    "print(largestPal)"
   ]
  },
  {
   "cell_type": "code",
   "execution_count": 16,
   "metadata": {
    "collapsed": false
   },
   "outputs": [
    {
     "data": {
      "text/plain": [
       "232792560"
      ]
     },
     "execution_count": 16,
     "metadata": {},
     "output_type": "execute_result"
    }
   ],
   "source": [
    "#problem 5\n",
    "factors = [11, 13, 14, 16, 17, 18, 19, 20]\n",
    "\n",
    "def solution(step):\n",
    "    for num in range(step, 999999999, step):\n",
    "        if all(num % n == 0 for n in factors):\n",
    "            return num\n",
    "    return None\n",
    "\n",
    "solution(2520)"
   ]
  },
  {
   "cell_type": "code",
   "execution_count": 17,
   "metadata": {
    "collapsed": false
   },
   "outputs": [
    {
     "ename": "TypeError",
     "evalue": "'int' object is not callable",
     "output_type": "error",
     "traceback": [
      "\u001b[0;31m---------------------------------------------------------------------------\u001b[0m",
      "\u001b[0;31mTypeError\u001b[0m                                 Traceback (most recent call last)",
      "\u001b[0;32m<ipython-input-17-7f131e20f8ee>\u001b[0m in \u001b[0;36m<module>\u001b[0;34m()\u001b[0m\n\u001b[1;32m      1\u001b[0m \u001b[1;31m#problem 6\u001b[0m\u001b[1;33m\u001b[0m\u001b[1;33m\u001b[0m\u001b[0m\n\u001b[0;32m----> 2\u001b[0;31m \u001b[0msquareOfSum\u001b[0m \u001b[1;33m=\u001b[0m \u001b[0msum\u001b[0m\u001b[1;33m(\u001b[0m\u001b[0mrange\u001b[0m\u001b[1;33m(\u001b[0m\u001b[1;36m1\u001b[0m\u001b[1;33m,\u001b[0m\u001b[1;36m101\u001b[0m\u001b[1;33m)\u001b[0m\u001b[1;33m)\u001b[0m \u001b[1;33m**\u001b[0m \u001b[1;36m2\u001b[0m\u001b[1;33m\u001b[0m\u001b[0m\n\u001b[0m\u001b[1;32m      3\u001b[0m \u001b[0msumOfSquare\u001b[0m \u001b[1;33m=\u001b[0m \u001b[1;36m0\u001b[0m\u001b[1;33m\u001b[0m\u001b[0m\n\u001b[1;32m      4\u001b[0m \u001b[1;32mfor\u001b[0m \u001b[0mi\u001b[0m \u001b[1;32min\u001b[0m \u001b[0mrange\u001b[0m\u001b[1;33m(\u001b[0m\u001b[1;36m1\u001b[0m\u001b[1;33m,\u001b[0m\u001b[1;36m101\u001b[0m\u001b[1;33m)\u001b[0m\u001b[1;33m:\u001b[0m\u001b[1;33m\u001b[0m\u001b[0m\n\u001b[1;32m      5\u001b[0m     \u001b[0msumOfSquare\u001b[0m \u001b[1;33m+=\u001b[0m \u001b[0mi\u001b[0m \u001b[1;33m**\u001b[0m \u001b[1;36m2\u001b[0m\u001b[1;33m\u001b[0m\u001b[0m\n",
      "\u001b[0;31mTypeError\u001b[0m: 'int' object is not callable"
     ]
    }
   ],
   "source": [
    "#problem 6\n",
    "squareOfSum = sum(range(1,101)) ** 2\n",
    "sumOfSquare = 0\n",
    "for i in range(1,101):\n",
    "    sumOfSquare += i ** 2\n",
    "print(squareOfSum - sumOfSquare)"
   ]
  },
  {
   "cell_type": "code",
   "execution_count": null,
   "metadata": {
    "collapsed": false
   },
   "outputs": [],
   "source": [
    "#problem 7\n",
    "def findPrimes(limit):\n",
    "    primes = [True] * limit\n",
    "    primes[0] = primes[1] = False\n",
    "    for (i, isPrime) in enumerate(primes):\n",
    "        if isPrime:\n",
    "            yield i\n",
    "            for factor in range(i,limit,i):\n",
    "                primes[factor] = False\n",
    "\n",
    "primeNum = 0\n",
    "for prime in findPrimes(150000):\n",
    "    primeNum += 1\n",
    "    if primeNum == 10001:\n",
    "        print(prime)\n",
    "        break"
   ]
  },
  {
   "cell_type": "code",
   "execution_count": null,
   "metadata": {
    "collapsed": false
   },
   "outputs": [],
   "source": [
    "#problem 8\n",
    "#Original plan was to do prevent multiplying the window values unnecessarily.\n",
    "#I could divide by the last in the window, and multiply by the incoming one.\n",
    "haystack = \"73167176531330624919225119674426574742355349194934\\\n",
    "96983520312774506326239578318016984801869478851843\\\n",
    "85861560789112949495459501737958331952853208805511\\\n",
    "12540698747158523863050715693290963295227443043557\\\n",
    "66896648950445244523161731856403098711121722383113\\\n",
    "62229893423380308135336276614282806444486645238749\\\n",
    "30358907296290491560440772390713810515859307960866\\\n",
    "70172427121883998797908792274921901699720888093776\\\n",
    "65727333001053367881220235421809751254540594752243\\\n",
    "52584907711670556013604839586446706324415722155397\\\n",
    "53697817977846174064955149290862569321978468622482\\\n",
    "83972241375657056057490261407972968652414535100474\\\n",
    "82166370484403199890008895243450658541227588666881\\\n",
    "16427171479924442928230863465674813919123162824586\\\n",
    "17866458359124566529476545682848912883142607690042\\\n",
    "24219022671055626321111109370544217506941658960408\\\n",
    "07198403850962455444362981230987879927244284909188\\\n",
    "84580156166097919133875499200524063689912560717606\\\n",
    "05886116467109405077541002256983155200055935729725\\\n",
    "71636269561882670428252483600823257530420752963450\"\n",
    "\n",
    "def getWindowProduct(start, stop):\n",
    "    global haystack\n",
    "    prod = 1\n",
    "    for i in haystack[start:stop+1]:\n",
    "        prod = prod * int(i)\n",
    "    return prod\n",
    "\n",
    "def getSolution(winSize):\n",
    "    global haystack\n",
    "    limit = len(haystack)\n",
    "    curProduct = bestProduct = start = stop = zeros = curWinSize = 0\n",
    "    bestStart = bestStop = 0\n",
    "    while stop + 1 < limit:\n",
    "        stop += 1\n",
    "        curWinSize += 1\n",
    "        if int(haystack[stop]) == 0:\n",
    "            zeros += 1\n",
    "        if curWinSize > winSize:\n",
    "            start += 1\n",
    "            curWinSize -= 1\n",
    "            if int(haystack[start]) == 0:\n",
    "                zeros -= 1\n",
    "        if curWinSize == winSize and zeros == 0:\n",
    "            curProduct = getWindowProduct(start, stop)\n",
    "            if curProduct > bestProduct:\n",
    "                bestStart = start\n",
    "                bestStop = stop\n",
    "                bestProduct = curProduct\n",
    "    print(\"{0} : {1}\".format(bestStart, bestStop))\n",
    "    return bestProduct\n",
    "\n",
    "print(getSolution(12))\n",
    "        \n",
    "        \n",
    "    "
   ]
  },
  {
   "cell_type": "code",
   "execution_count": null,
   "metadata": {
    "collapsed": false
   },
   "outputs": [],
   "source": [
    "#problem 9\n",
    "def isTriplet(a,b,c):\n",
    "    return a**2 + b**2 == c**2\n",
    "\n",
    "def solution(limit):\n",
    "    for c in range(1,limit):\n",
    "        for b in range(1,c):\n",
    "            for a in range(1,b):\n",
    "                if isTriplet(a,b,c):\n",
    "                    if a+b+c == 1000:\n",
    "                        print(\"{0},{1},{2}\".format(a,b,c))\n",
    "                        return a*b*c\n",
    "solution(1000)"
   ]
  },
  {
   "cell_type": "code",
   "execution_count": null,
   "metadata": {
    "collapsed": false
   },
   "outputs": [],
   "source": [
    "#problem 10\n",
    "#Using the prime sieve from problem 7\n",
    "def findPrimes(limit):\n",
    "    primes = [True] * limit\n",
    "    primes[0] = primes[1] = False\n",
    "    for (i, isPrime) in enumerate(primes):\n",
    "        if isPrime:\n",
    "            yield i\n",
    "            for factor in range(i,limit,i):\n",
    "                primes[factor] = False\n",
    "\n",
    "print(sum(findPrimes(2000000)))"
   ]
  },
  {
   "cell_type": "code",
   "execution_count": null,
   "metadata": {
    "collapsed": false
   },
   "outputs": [],
   "source": [
    "#problem 11\n",
    "import operator\n",
    "\n",
    "DATA = \"08 02 22 97 38 15 00 40 00 75 04 05 07 78 52 12 50 77 91 08 \\\n",
    "49 49 99 40 17 81 18 57 60 87 17 40 98 43 69 48 04 56 62 00 \\\n",
    "81 49 31 73 55 79 14 29 93 71 40 67 53 88 30 03 49 13 36 65 \\\n",
    "52 70 95 23 04 60 11 42 69 24 68 56 01 32 56 71 37 02 36 91 \\\n",
    "22 31 16 71 51 67 63 89 41 92 36 54 22 40 40 28 66 33 13 80 \\\n",
    "24 47 32 60 99 03 45 02 44 75 33 53 78 36 84 20 35 17 12 50 \\\n",
    "32 98 81 28 64 23 67 10 26 38 40 67 59 54 70 66 18 38 64 70 \\\n",
    "67 26 20 68 02 62 12 20 95 63 94 39 63 08 40 91 66 49 94 21 \\\n",
    "24 55 58 05 66 73 99 26 97 17 78 78 96 83 14 88 34 89 63 72 \\\n",
    "21 36 23 09 75 00 76 44 20 45 35 14 00 61 33 97 34 31 33 95 \\\n",
    "78 17 53 28 22 75 31 67 15 94 03 80 04 62 16 14 09 53 56 92 \\\n",
    "16 39 05 42 96 35 31 47 55 58 88 24 00 17 54 24 36 29 85 57 \\\n",
    "86 56 00 48 35 71 89 07 05 44 44 37 44 60 21 58 51 54 17 58 \\\n",
    "19 80 81 68 05 94 47 69 28 73 92 13 86 52 17 77 04 89 55 40 \\\n",
    "04 52 08 83 97 35 99 16 07 97 57 32 16 26 26 79 33 27 98 66 \\\n",
    "88 36 68 87 57 62 20 72 03 46 33 67 46 55 12 32 63 93 53 69 \\\n",
    "04 42 16 73 38 25 39 11 24 94 72 18 08 46 29 32 40 62 76 36 \\\n",
    "20 69 36 41 72 30 23 88 34 62 99 69 82 67 59 85 74 04 36 16 \\\n",
    "20 73 35 29 78 31 90 01 74 31 49 71 48 86 81 16 23 57 05 54 \\\n",
    "01 70 54 71 83 51 54 69 16 92 33 48 61 43 52 01 89 19 67 48\"\n",
    "GRIDSIZE = 20\n",
    "WINDOWSIZE = 4\n",
    "\n",
    "def parseInput(data):\n",
    "    global GRIDSIZE,DATA\n",
    "    raw_data = DATA.split()\n",
    "    data = []\n",
    "    offset = 0\n",
    "    for i in range(GRIDSIZE):\n",
    "        row = [int(x) for x in raw_data[offset:offset+GRIDSIZE]]\n",
    "        data.append(row)\n",
    "        offset += GRIDSIZE\n",
    "    return data\n",
    "    \n",
    "def windowProduct(x,y,isDiagonal,diagRight,isHorizontal,grid):\n",
    "    global WINDOWSIZE\n",
    "    prod = 1\n",
    "    if isDiagonal:\n",
    "        op = operator.add if diagRight else operator.sub\n",
    "        for i in range(WINDOWSIZE):\n",
    "            prod = prod * grid[x+i][op(y,i)]\n",
    "    elif isHorizontal:\n",
    "        for i in range(WINDOWSIZE):\n",
    "            prod = prod * grid[x][y+i]\n",
    "    else:\n",
    "        for i in range(WINDOWSIZE):\n",
    "            prod = prod * grid[x+i][y]\n",
    "    return prod\n",
    "\n",
    "grid = parseInput(DATA)\n",
    "bestLDiag = bestRDiag = bestHoriz = bestVert = 0\n",
    "#left diagonals\n",
    "for x in range(0,GRIDSIZE-WINDOWSIZE+1):\n",
    "    for y in range(WINDOWSIZE-1,GRIDSIZE):\n",
    "        cur = windowProduct(x,y,True,False,False,grid)\n",
    "        if cur > bestLDiag:\n",
    "            bestLDiag = cur\n",
    "        \n",
    "#right diagonals\n",
    "for x in range(0,GRIDSIZE-WINDOWSIZE+1):\n",
    "    for y in range(0,GRIDSIZE-WINDOWSIZE+1):\n",
    "        cur = windowProduct(x,y,True,True,False,grid)\n",
    "        if cur > bestRDiag:\n",
    "            bestRDiag = cur\n",
    "        \n",
    "#horizontals\n",
    "for x in range(0,GRIDSIZE):\n",
    "    for y in range(0,GRIDSIZE-WINDOWSIZE+1):\n",
    "        cur = windowProduct(x,y,False,False,True,grid)\n",
    "        if cur > bestHoriz:\n",
    "            bestHoriz = cur\n",
    "        \n",
    "#verticals\n",
    "for x in range(0,GRIDSIZE-WINDOWSIZE+1):\n",
    "    for y in range(0,GRIDSIZE):\n",
    "        cur = windowProduct(x,y,False,False,False,grid)\n",
    "        if cur > bestVert:\n",
    "            bestVert = cur\n",
    "\n",
    "print(\"{0}\".format(max(bestLDiag,bestRDiag,bestHoriz,bestVert)))\n"
   ]
  },
  {
   "cell_type": "code",
   "execution_count": null,
   "metadata": {
    "collapsed": false
   },
   "outputs": [],
   "source": [
    "#problem 12\n",
    "import math\n",
    "import time\n",
    "\n",
    "a = time.time()\n",
    "def triangleNumbers(limit):\n",
    "    sum = 0\n",
    "    for i in range(1,limit+1):\n",
    "        sum += i\n",
    "        yield sum\n",
    "\n",
    "for tri in triangleNumbers(1000000):\n",
    "    factors = set()\n",
    "    for i in range(1,int(math.sqrt(tri))+1):\n",
    "        if tri % i == 0:\n",
    "            factors.add(i)\n",
    "            factors.add(tri / i)\n",
    "    if len(factors) > 500:\n",
    "        print(tri)\n",
    "        print(\"time elapsed: {0}\".format(time.time() - a))\n",
    "        break"
   ]
  },
  {
   "cell_type": "code",
   "execution_count": null,
   "metadata": {
    "collapsed": false
   },
   "outputs": [],
   "source": [
    "#problem 13\n",
    "data = [37107287533902102798797998220837590246510135740250,\n",
    "46376937677490009712648124896970078050417018260538,\n",
    "74324986199524741059474233309513058123726617309629,\n",
    "91942213363574161572522430563301811072406154908250,\n",
    "23067588207539346171171980310421047513778063246676,\n",
    "89261670696623633820136378418383684178734361726757,\n",
    "28112879812849979408065481931592621691275889832738,\n",
    "44274228917432520321923589422876796487670272189318,\n",
    "47451445736001306439091167216856844588711603153276,\n",
    "70386486105843025439939619828917593665686757934951,\n",
    "62176457141856560629502157223196586755079324193331,\n",
    "64906352462741904929101432445813822663347944758178,\n",
    "92575867718337217661963751590579239728245598838407,\n",
    "58203565325359399008402633568948830189458628227828,\n",
    "80181199384826282014278194139940567587151170094390,\n",
    "35398664372827112653829987240784473053190104293586,\n",
    "86515506006295864861532075273371959191420517255829,\n",
    "71693888707715466499115593487603532921714970056938,\n",
    "54370070576826684624621495650076471787294438377604,\n",
    "53282654108756828443191190634694037855217779295145,\n",
    "36123272525000296071075082563815656710885258350721,\n",
    "45876576172410976447339110607218265236877223636045,\n",
    "17423706905851860660448207621209813287860733969412,\n",
    "81142660418086830619328460811191061556940512689692,\n",
    "51934325451728388641918047049293215058642563049483,\n",
    "62467221648435076201727918039944693004732956340691,\n",
    "15732444386908125794514089057706229429197107928209,\n",
    "55037687525678773091862540744969844508330393682126,\n",
    "18336384825330154686196124348767681297534375946515,\n",
    "80386287592878490201521685554828717201219257766954,\n",
    "78182833757993103614740356856449095527097864797581,\n",
    "16726320100436897842553539920931837441497806860984,\n",
    "48403098129077791799088218795327364475675590848030,\n",
    "87086987551392711854517078544161852424320693150332,\n",
    "59959406895756536782107074926966537676326235447210,\n",
    "69793950679652694742597709739166693763042633987085,\n",
    "41052684708299085211399427365734116182760315001271,\n",
    "65378607361501080857009149939512557028198746004375,\n",
    "35829035317434717326932123578154982629742552737307,\n",
    "94953759765105305946966067683156574377167401875275,\n",
    "88902802571733229619176668713819931811048770190271,\n",
    "25267680276078003013678680992525463401061632866526,\n",
    "36270218540497705585629946580636237993140746255962,\n",
    "24074486908231174977792365466257246923322810917141,\n",
    "91430288197103288597806669760892938638285025333403,\n",
    "34413065578016127815921815005561868836468420090470,\n",
    "23053081172816430487623791969842487255036638784583,\n",
    "11487696932154902810424020138335124462181441773470,\n",
    "63783299490636259666498587618221225225512486764533,\n",
    "67720186971698544312419572409913959008952310058822,\n",
    "95548255300263520781532296796249481641953868218774,\n",
    "76085327132285723110424803456124867697064507995236,\n",
    "37774242535411291684276865538926205024910326572967,\n",
    "23701913275725675285653248258265463092207058596522,\n",
    "29798860272258331913126375147341994889534765745501,\n",
    "18495701454879288984856827726077713721403798879715,\n",
    "38298203783031473527721580348144513491373226651381,\n",
    "34829543829199918180278916522431027392251122869539,\n",
    "40957953066405232632538044100059654939159879593635,\n",
    "29746152185502371307642255121183693803580388584903,\n",
    "41698116222072977186158236678424689157993532961922,\n",
    "62467957194401269043877107275048102390895523597457,\n",
    "23189706772547915061505504953922979530901129967519,\n",
    "86188088225875314529584099251203829009407770775672,\n",
    "11306739708304724483816533873502340845647058077308,\n",
    "82959174767140363198008187129011875491310547126581,\n",
    "97623331044818386269515456334926366572897563400500,\n",
    "42846280183517070527831839425882145521227251250327,\n",
    "55121603546981200581762165212827652751691296897789,\n",
    "32238195734329339946437501907836945765883352399886,\n",
    "75506164965184775180738168837861091527357929701337,\n",
    "62177842752192623401942399639168044983993173312731,\n",
    "32924185707147349566916674687634660915035914677504,\n",
    "99518671430235219628894890102423325116913619626622,\n",
    "73267460800591547471830798392868535206946944540724,\n",
    "76841822524674417161514036427982273348055556214818,\n",
    "97142617910342598647204516893989422179826088076852,\n",
    "87783646182799346313767754307809363333018982642090,\n",
    "10848802521674670883215120185883543223812876952786,\n",
    "71329612474782464538636993009049310363619763878039,\n",
    "62184073572399794223406235393808339651327408011116,\n",
    "66627891981488087797941876876144230030984490851411,\n",
    "60661826293682836764744779239180335110989069790714,\n",
    "85786944089552990653640447425576083659976645795096,\n",
    "66024396409905389607120198219976047599490197230297,\n",
    "64913982680032973156037120041377903785566085089252,\n",
    "16730939319872750275468906903707539413042652315011,\n",
    "94809377245048795150954100921645863754710598436791,\n",
    "78639167021187492431995700641917969777599028300699,\n",
    "15368713711936614952811305876380278410754449733078,\n",
    "40789923115535562561142322423255033685442488917353,\n",
    "44889911501440648020369068063960672322193204149535,\n",
    "41503128880339536053299340368006977710650566631954,\n",
    "81234880673210146739058568557934581403627822703280,\n",
    "82616570773948327592232845941706525094512325230608,\n",
    "22918802058777319719839450180888072429661980811197,\n",
    "77158542502016545090413245809786882778948721859617,\n",
    "72107838435069186155435662884062257473692284509516,\n",
    "20849603980134001723930671666823555245252804609722,\n",
    "53503534226472524250874054075591789781264330331690]\n",
    "\n",
    "sum = 0\n",
    "for num in data:\n",
    "    str_num = str(num)\n",
    "    num11 = int(str_num[0:11])\n",
    "    sum += num11\n",
    "print(sum)"
   ]
  },
  {
   "cell_type": "code",
   "execution_count": 30,
   "metadata": {
    "collapsed": false,
    "scrolled": true
   },
   "outputs": [
    {
     "name": "stdout",
     "output_type": "stream",
     "text": [
      "time 4.102722883224487\n",
      "837799,525\n"
     ]
    }
   ],
   "source": [
    "#problem 14\n",
    "import time\n",
    "\n",
    "memo = {}\n",
    "def collatz(args, count):\n",
    "    cur = args[-1]\n",
    "    #print(\"before count: {2}, cur: {1}, args: {0}\".format(args, cur, count))\n",
    "    if not cur in memo:\n",
    "        if cur == 1:\n",
    "            origCount = count\n",
    "            for arg in args:\n",
    "                memo[arg] = count\n",
    "                count -= 1\n",
    "            return origCount\n",
    "        elif cur % 2 == 0:\n",
    "            args.append(cur//2)\n",
    "        else:\n",
    "            args.append(3*cur + 1)\n",
    "        return collatz(args,count+1)\n",
    "    else:\n",
    "        count = memo[cur]\n",
    "        if not cur == args[0]:\n",
    "            i = 1\n",
    "            for arg in reversed(args[:-1]):\n",
    "                memo[arg] = count + i\n",
    "                i += 1      \n",
    "        #print(\"after count: {2}, cur: {1}, args: {0}\".format(args, cur, count))\n",
    "        return memo[args[0]]\n",
    "\n",
    "bestCollatz = 0\n",
    "longestChain = 0\n",
    "\n",
    "s = time.time()\n",
    "for i in range(500001,1000001):\n",
    "    cur = collatz([i],1)\n",
    "    if cur > longestChain:\n",
    "        bestCollatz = i\n",
    "        longestChain = cur\n",
    "        \n",
    "print(\"time {0}\".format(time.time() - s))\n",
    "print(\"{0},{1}\".format(bestCollatz, longestChain))\n"
   ]
  },
  {
   "cell_type": "code",
   "execution_count": 1,
   "metadata": {
    "collapsed": false
   },
   "outputs": [
    {
     "name": "stdout",
     "output_type": "stream",
     "text": [
      "137846528820.0\n"
     ]
    }
   ],
   "source": [
    "#problem 15\n",
    "#you will always have 20 downs and 20 lefts, thus always 40 moves in all\n",
    "#Thus the question becomes how to arrange 20 D's and 20 L's.\n",
    "import math\n",
    "print(math.factorial(40)/(math.factorial(20)**2))"
   ]
  },
  {
   "cell_type": "code",
   "execution_count": 3,
   "metadata": {
    "collapsed": false
   },
   "outputs": [
    {
     "name": "stdout",
     "output_type": "stream",
     "text": [
      "1366\n"
     ]
    }
   ],
   "source": [
    "#problem 16\n",
    "str_num = str(2**1000)\n",
    "sum = 0\n",
    "for n in str_num:\n",
    "    sum += int(n)\n",
    "print(sum)\n"
   ]
  },
  {
   "cell_type": "code",
   "execution_count": 28,
   "metadata": {
    "collapsed": false
   },
   "outputs": [],
   "source": [
    "#problem 17\n",
    "words = {1 : 'one'\n",
    "        ,2 : 'two'\n",
    "        ,3 : 'three'\n",
    "        ,4 : 'four'\n",
    "        ,5 : 'five'\n",
    "        ,6 : 'six'\n",
    "        ,7 : 'seven'\n",
    "        ,8 : 'eight'\n",
    "        ,9 : 'nine'\n",
    "        ,10 : 'ten'\n",
    "        ,11 : 'eleven'\n",
    "        ,12 : 'twelve'\n",
    "        ,13 : 'thirteen'\n",
    "        ,14 : 'fourteen'\n",
    "        ,15 : 'fifteen'\n",
    "        ,16 : 'sixteen'\n",
    "        ,17 : 'seventeen'\n",
    "        ,18 : 'eighteen'\n",
    "        ,19 : 'nineteen'\n",
    "        ,20 : 'twenty'\n",
    "        ,30 : 'thirty'\n",
    "        ,40 : 'forty'\n",
    "        ,50 : 'fifty'\n",
    "        ,60 : 'sixty'\n",
    "        ,70 : 'seventy'\n",
    "        ,80 : 'eighty'\n",
    "        ,90 : 'ninety'}\n",
    "\n",
    "for i in range(1,1001):\n",
    "    word = ''"
   ]
  },
  {
   "cell_type": "code",
   "execution_count": 36,
   "metadata": {
    "collapsed": false
   },
   "outputs": [
    {
     "name": "stdout",
     "output_type": "stream",
     "text": [
      "1074\n"
     ]
    }
   ],
   "source": [
    "#problem 18\n",
    "\n",
    "best = [0] * 16\n",
    "for line in reversed(list(open(\"triangle.txt\"))):\n",
    "    cur = list(map(int, line.rstrip().split()))\n",
    "    for (i,n) in enumerate(cur):\n",
    "        best[i] = max(n + best[i], n + best[i+1])\n",
    "\n",
    "print(best[0])"
   ]
  },
  {
   "cell_type": "code",
   "execution_count": 37,
   "metadata": {
    "collapsed": false
   },
   "outputs": [
    {
     "name": "stdout",
     "output_type": "stream",
     "text": [
      "7273\n"
     ]
    }
   ],
   "source": [
    "#problem 67\n",
    "best = [0] * 101\n",
    "for line in reversed(list(open(\"p067_triangle.txt\"))):\n",
    "    cur = list(map(int, line.rstrip().split()))\n",
    "    for (i,n) in enumerate(cur):\n",
    "        best[i] = max(n + best[i], n + best[i+1])\n",
    "\n",
    "print(best[0])"
   ]
  },
  {
   "cell_type": "code",
   "execution_count": null,
   "metadata": {
    "collapsed": true
   },
   "outputs": [],
   "source": [
    "#problem 19\n"
   ]
  },
  {
   "cell_type": "code",
   "execution_count": 38,
   "metadata": {
    "collapsed": false
   },
   "outputs": [
    {
     "name": "stdout",
     "output_type": "stream",
     "text": [
      "9324\n",
      "factorial t took: 0.012208223342895508\n",
      "9324\n",
      "factorial r took: 0.012207269668579102\n"
     ]
    }
   ],
   "source": [
    "#problem 20\n",
    "import time\n",
    "import sys\n",
    "\n",
    "sys.setrecursionlimit(2000)\n",
    "\n",
    "def sum_digits(n):\n",
    "    s = 0\n",
    "    while n:\n",
    "        s += n % 10\n",
    "        n //= 10\n",
    "    return s\n",
    "\n",
    "def memoize(f):\n",
    "    memo = {}\n",
    "    def memo_fun(x):\n",
    "        if not x in memo:\n",
    "            memo[x] = f(x)\n",
    "        return memo[x]\n",
    "    return memo_fun\n",
    "        \n",
    "def factorial(n):\n",
    "        if n == 1:\n",
    "            return n\n",
    "        else:\n",
    "            return n * factorial(n-1)\n",
    "def memoize_t(f):\n",
    "    memo = {}\n",
    "    def memo_fun(x, p):\n",
    "        if not x in memo:\n",
    "            memo[x] = f(x, p)\n",
    "        return memo[x]\n",
    "    return memo_fun\n",
    "\n",
    "def factorial_t(n, prod):\n",
    "    if n == 1:\n",
    "        return prod\n",
    "    else:\n",
    "        return factorial_t(n-1, n*prod)\n",
    "factorial_t = memoize_t(factorial_t)\n",
    "factorial = memoize(factorial)\n",
    "\n",
    "a = time.time()\n",
    "print(sum_digits(factorial_t(900,1)))\n",
    "print(\"factorial t took: {0}\".format(time.time()-a))\n",
    "\n",
    "b = time.time()\n",
    "print(sum_digits(factorial(900)))\n",
    "print(\"factorial r took: {0}\".format(time.time()-b))\n"
   ]
  },
  {
   "cell_type": "code",
   "execution_count": 11,
   "metadata": {
    "collapsed": false
   },
   "outputs": [
    {
     "name": "stdout",
     "output_type": "stream",
     "text": [
      "31626\n"
     ]
    }
   ],
   "source": [
    "def d(n):\n",
    "    sums = 0\n",
    "    for i in range(1,n):\n",
    "        if n % i == 0:\n",
    "            sums += i\n",
    "    return sums\n",
    "\n",
    "dees = {}\n",
    "frands = set()\n",
    "for i in range(1,10000):\n",
    "    cur = d(i)\n",
    "    if cur in dees and dees[cur] == i:\n",
    "        frands.add(cur)\n",
    "        frands.add(i)\n",
    "    else:\n",
    "        dees[i] = cur\n",
    "\n",
    "print(sum(frands)) "
   ]
  }
 ],
 "metadata": {
  "anaconda-cloud": {},
  "kernelspec": {
   "display_name": "Python [default]",
   "language": "python",
   "name": "python3"
  },
  "language_info": {
   "codemirror_mode": {
    "name": "ipython",
    "version": 3
   },
   "file_extension": ".py",
   "mimetype": "text/x-python",
   "name": "python",
   "nbconvert_exporter": "python",
   "pygments_lexer": "ipython3",
   "version": "3.5.2"
  }
 },
 "nbformat": 4,
 "nbformat_minor": 1
}
